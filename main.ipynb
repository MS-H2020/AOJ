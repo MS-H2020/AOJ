{
  "nbformat": 4,
  "nbformat_minor": 0,
  "metadata": {
    "colab": {
      "provenance": [],
      "include_colab_link": true
    },
    "kernelspec": {
      "name": "python3",
      "display_name": "Python 3"
    },
    "language_info": {
      "name": "python"
    }
  },
  "cells": [
    {
      "cell_type": "markdown",
      "metadata": {
        "id": "view-in-github",
        "colab_type": "text"
      },
      "source": [
        "<a href=\"https://colab.research.google.com/github/MS-H2020/AOJ/blob/main/main.ipynb\" target=\"_parent\"><img src=\"https://colab.research.google.com/assets/colab-badge.svg\" alt=\"Open In Colab\"/></a>"
      ]
    },
    {
      "cell_type": "markdown",
      "source": [
        "# [モノクロ顔画像の感情分類 ](https://signate.jp/competitions/404)"
      ],
      "metadata": {
        "id": "KUUwxm83iSkn"
      }
    },
    {
      "cell_type": "markdown",
      "source": [
        "## Google Colabでの設定"
      ],
      "metadata": {
        "id": "qHmNdEavgoXU"
      }
    },
    {
      "cell_type": "code",
      "execution_count": 1,
      "metadata": {
        "colab": {
          "base_uri": "https://localhost:8080/"
        },
        "id": "Xl1IqO5HgZai",
        "outputId": "04517b5e-d705-4ca2-f07a-41ed5d30f57b"
      },
      "outputs": [
        {
          "output_type": "stream",
          "name": "stdout",
          "text": [
            "Mounted at /content/drive\n"
          ]
        }
      ],
      "source": [
        "from google.colab import drive\n",
        "drive.mount('/content/drive')\n",
        "!cp \"/content/drive/MyDrive/Emotion_Classification_of_Monochrome_Face_Images/01_input.zip\" ."
      ]
    },
    {
      "cell_type": "code",
      "source": [
        "import sys\n",
        "sys.path.append('/content/drive/MyDrive/Emotion_Classification_of_Monochrome_Face_Images/')"
      ],
      "metadata": {
        "id": "-JQDwUTEkRgV"
      },
      "execution_count": 2,
      "outputs": []
    },
    {
      "cell_type": "code",
      "source": [
        "TEMP_DIR = \"./temp\"\n",
        "WEIGHT_DIR = \"./weight\"\n",
        "INPUT_DIR:str = TEMP_DIR + \"/01_input\"\n",
        "TRAIN_DIR:str = INPUT_DIR + \"/train\"\n",
        "TEST_DIR:str = INPUT_DIR + \"/test\"\n",
        "ANALYSIS_DIR:str = \"/content/drive/MyDrive/Emotion_Classification_of_Monochrome_Face_Images/03_code-analysis\"\n",
        "MODEL_DIR:str = \"/content/drive/MyDrive/Emotion_Classification_of_Monochrome_Face_Images//04_model\"\n",
        "SUBMISSION_DIR:str = '/content/drive/MyDrive/Emotion_Classification_of_Monochrome_Face_Images/05_submission'\n",
        "CHECKPOINT_PATH:str = MODEL_DIR"
      ],
      "metadata": {
        "id": "U0ve3w0vgwOI"
      },
      "execution_count": 3,
      "outputs": []
    },
    {
      "cell_type": "code",
      "source": [
        "import shutil\n",
        "import os\n",
        "\n",
        "if os.path.isdir(TEMP_DIR):\n",
        "  shutil.rmtree(TEMP_DIR)\n",
        "\n",
        "if os.path.isdir(WEIGHT_DIR):\n",
        "  shutil.rmtree(WEIGHT_DIR)\n",
        "\n",
        "import glob\n",
        "import zipfile\n",
        "shutil.unpack_archive('01_input.zip', TEMP_DIR)\n",
        "os.mkdir(WEIGHT_DIR)"
      ],
      "metadata": {
        "id": "2GV0b4S4iib-"
      },
      "execution_count": 4,
      "outputs": []
    },
    {
      "cell_type": "markdown",
      "source": [
        "## メインコード"
      ],
      "metadata": {
        "id": "ed38v9YrjV35"
      }
    },
    {
      "cell_type": "code",
      "source": [
        "import os\n",
        "import gc\n",
        "import time\n",
        "\n",
        "\"\"\"\n",
        "from util import Logger, Util\n",
        "logger = Logger()\n",
        "\"\"\"\n",
        "\n",
        "from typing import Optional\n",
        "\n",
        "import numpy as np\n",
        "import pandas as pd\n",
        "import matplotlib.pyplot as plt\n",
        "%matplotlib inline\n",
        "\n",
        "import tensorflow\n",
        "from tensorflow import keras\n",
        "from tensorflow.keras import models, datasets, layers, applications, optimizers\n",
        "from tensorflow.keras.layers import GlobalAveragePooling2D, Dense, Dropout, Flatten, BatchNormalization\n",
        "from tensorflow.keras.models import Sequential\n",
        "from tensorflow.keras.preprocessing.image import ImageDataGenerator\n",
        "\n",
        "tf.compat.v1.logging.set_verbosity(tf.compat.v1.logging.ERROR)"
      ],
      "metadata": {
        "id": "e9bJV-rDjf70"
      },
      "execution_count": 7,
      "outputs": []
    },
    {
      "cell_type": "code",
      "source": [
        "############# Initial Setting #####################################\n",
        "\"\"\"\n",
        "INPUT_DIR:str = \"../01_input\"\n",
        "TRAIN_DIR:str = INPUT_DIR + \"/train\"\n",
        "TEST_DIR:str = INPUT_DIR + \"/test\"\n",
        "ANALYSIS_DIR:str = \"../03_code-analysis\"\n",
        "MODEL_DIR:str = \"../04_model\"\n",
        "SUBMISSION_DIR:str = '../05_submission'\n",
        "CHECKPOINT_PATH:str = MODEL_DIR\n",
        "\"\"\"\n",
        "\n",
        "IMG_WIDTH:int = 128\n",
        "IMG_HEIGHT:int = 120\n",
        "IMG_DEPTH:int = 1\n",
        "BATCH_SIZE:int = 16 #Default:32\n",
        "\n",
        "OneHold_or_Kfold : bool = True\n",
        "\n",
        "#fold_num:int = 5 # Default:5\n",
        "architecture:str = \"mobile-net\"\n",
        "#architecture:str = \"DenseNet\"\n",
        "#architecture:str = \"VGG\"\n",
        "#architecture:str = \"efficient-net\"\n",
        "\n",
        "#model_ver:int = 1\n",
        "epochs:int = 50 # Defalut:50\n",
        "lr:float = 0.001 # Default:0.001\n",
        "\n",
        "#################################################################"
      ],
      "metadata": {
        "id": "FI0OvjXImtd3"
      },
      "execution_count": 8,
      "outputs": []
    },
    {
      "cell_type": "code",
      "source": [
        "df = pd.read_csv(INPUT_DIR+\"/train_master.tsv\", sep=\"\\t\")\n",
        "df['expression'] = df['expression'].astype(str)\n",
        "print(df)"
      ],
      "metadata": {
        "colab": {
          "base_uri": "https://localhost:8080/"
        },
        "id": "kQ884uZdnRmd",
        "outputId": "f48e2824-e44e-4f8e-ec84-40438580e4a7"
      },
      "execution_count": 9,
      "outputs": [
        {
          "output_type": "stream",
          "name": "stdout",
          "text": [
            "                 id    userid      pose expression        eyes\n",
            "0    train_0000.jpg     choon  straight      angry        open\n",
            "1    train_0001.jpg      kk49  straight      angry        open\n",
            "2    train_0002.jpg    phoebe     right        sad  sunglasses\n",
            "3    train_0003.jpg  kawamura      left    neutral  sunglasses\n",
            "4    train_0004.jpg      an2i      left      happy  sunglasses\n",
            "..              ...       ...       ...        ...         ...\n",
            "307  train_0307.jpg   karyadi  straight    neutral        open\n",
            "308  train_0308.jpg      kk49  straight    neutral        open\n",
            "309  train_0309.jpg   karyadi      left    neutral  sunglasses\n",
            "310  train_0310.jpg      at33      left      happy        open\n",
            "311  train_0311.jpg   danieln      left      angry        open\n",
            "\n",
            "[312 rows x 5 columns]\n"
          ]
        }
      ]
    },
    {
      "cell_type": "markdown",
      "source": [
        "## One-Hold法"
      ],
      "metadata": {
        "id": "rHXs2TixEYIv"
      }
    },
    {
      "cell_type": "code",
      "source": [
        "#logger.info('start def fit_model_one_hold()')\n",
        "\n",
        "from sklearn.model_selection import train_test_split\n",
        "train_x, train_y = train_test_split(df, test_size=0.1, stratify=df['expression'], random_state=2)\n",
        "\n",
        "metrics = ['loss', 'accuracy']  # 使用する評価関数を指定\n",
        "datagen = ImageDataGenerator(\n",
        "  featurewise_center=False,\n",
        "  samplewise_center=False,\n",
        "  featurewise_std_normalization=True,\n",
        "  samplewise_std_normalization=False,\n",
        "  zca_whitening=False,\n",
        "  zca_epsilon=1e-06,\n",
        "  rotation_range=0.0,\n",
        "  width_shift_range=0.00,\n",
        "  height_shift_range=0.00,\n",
        "  brightness_range=None,\n",
        "  shear_range=0.0,\n",
        "  zoom_range=0.0,\n",
        "  channel_shift_range=0.0,\n",
        "  fill_mode='nearest',\n",
        "  cval=0.0,\n",
        "  horizontal_flip=True,\n",
        "  vertical_flip=False,\n",
        "  rescale=1./255,\n",
        "  preprocessing_function=None,\n",
        "  data_format=None,\n",
        "  #validation_split=0.1,\n",
        "  interpolation_order=1,\n",
        "  dtype=None\n",
        "                            )\n",
        "\n",
        "train_generator = datagen.flow_from_dataframe(\n",
        "                            dataframe = train_x,\n",
        "                            directory = TRAIN_DIR,\n",
        "                            x_col = \"id\",\n",
        "                            y_col = \"expression\",\n",
        "                            target_size=(IMG_WIDTH,IMG_HEIGHT),\n",
        "                            batch_size=BATCH_SIZE,\n",
        "                            color_mode = 'grayscale',\n",
        "                            class_mode='categorical',\n",
        "                            shuffle=False\n",
        ")\n",
        "\n",
        "val_generator = datagen.flow_from_dataframe(\n",
        "                            dataframe = train_y,\n",
        "                            directory = TRAIN_DIR,\n",
        "                            x_col = \"id\",\n",
        "                            y_col = \"expression\",\n",
        "                            target_size=(IMG_WIDTH,IMG_HEIGHT),\n",
        "                            batch_size=BATCH_SIZE,\n",
        "                            color_mode = 'grayscale',\n",
        "                            class_mode='categorical',\n",
        "                            shuffle=False\n",
        ")"
      ],
      "metadata": {
        "colab": {
          "base_uri": "https://localhost:8080/"
        },
        "id": "Gi-6WRFNoNLi",
        "outputId": "3ebee4da-d8e9-4663-ae87-966b9ef75ed2"
      },
      "execution_count": 10,
      "outputs": [
        {
          "output_type": "stream",
          "name": "stdout",
          "text": [
            "Found 280 validated image filenames belonging to 4 classes.\n",
            "Found 32 validated image filenames belonging to 4 classes.\n"
          ]
        },
        {
          "output_type": "stream",
          "name": "stderr",
          "text": [
            "/usr/local/lib/python3.10/dist-packages/keras/src/preprocessing/image.py:1460: UserWarning: This ImageDataGenerator specifies `featurewise_std_normalization`, which overrides setting of `featurewise_center`.\n",
            "  warnings.warn(\n"
          ]
        }
      ]
    },
    {
      "cell_type": "code",
      "source": [
        "t_x, t_y = next(train_generator)\n",
        "base_model = applications.mobilenet.MobileNet(weights=None,include_top=False,input_shape=t_x.shape[1:])"
      ],
      "metadata": {
        "id": "26zX6idioERB",
        "colab": {
          "base_uri": "https://localhost:8080/"
        },
        "outputId": "23c298f5-ec78-4efb-a2bc-18e6d1c886c8"
      },
      "execution_count": 13,
      "outputs": [
        {
          "output_type": "stream",
          "name": "stderr",
          "text": [
            "/usr/local/lib/python3.10/dist-packages/keras/src/preprocessing/image.py:1862: UserWarning: This ImageDataGenerator specifies `featurewise_center`, but it hasn't been fit on any training data. Fit it first by calling `.fit(numpy_data)`.\n",
            "  warnings.warn(\n",
            "/usr/local/lib/python3.10/dist-packages/keras/src/preprocessing/image.py:1872: UserWarning: This ImageDataGenerator specifies `featurewise_std_normalization`, but it hasn't been fit on any training data. Fit it first by calling `.fit(numpy_data)`.\n",
            "  warnings.warn(\n"
          ]
        }
      ]
    },
    {
      "cell_type": "code",
      "source": [
        "model = models.Sequential()\n",
        "model.add(BatchNormalization(input_shape = t_x.shape[1:]))\n",
        "model.add(base_model)\n",
        "model.add(BatchNormalization())\n",
        "model.add(GlobalAveragePooling2D())\n",
        "model.add(Dropout(0.5))\n",
        "model.add(Dense(4, activation='softmax'))\n",
        "\n",
        "model.trainable = False\n",
        "\n",
        "#adam_low_rate = optimizers.legacy.Adam(learning_rate=lr)\n",
        "adam_low_rate = optimizers.Adam(learning_rate=lr)\n",
        "\n",
        "# モデルを構築\n",
        "model.compile(optimizer=adam_low_rate,\n",
        "              loss=\"categorical_crossentropy\",\n",
        "              metrics=['accuracy'])\n",
        "\n",
        "#logger.info('end def build_model()')"
      ],
      "metadata": {
        "id": "WXhOTGQTHRHO"
      },
      "execution_count": 15,
      "outputs": []
    },
    {
      "cell_type": "code",
      "source": [
        "# モデルの概要\n",
        "model.summary()"
      ],
      "metadata": {
        "colab": {
          "base_uri": "https://localhost:8080/"
        },
        "id": "zcNXvYRSC1kk",
        "outputId": "f7268c08-3f84-42c0-da7a-12c0d8dfa637"
      },
      "execution_count": 16,
      "outputs": [
        {
          "output_type": "stream",
          "name": "stdout",
          "text": [
            "Model: \"sequential_1\"\n",
            "_________________________________________________________________\n",
            " Layer (type)                Output Shape              Param #   \n",
            "=================================================================\n",
            " batch_normalization_1 (Bat  (None, 128, 120, 1)       4         \n",
            " chNormalization)                                                \n",
            "                                                                 \n",
            " mobilenet_1.00_128 (Functi  (None, 4, 3, 1024)        3228288   \n",
            " onal)                                                           \n",
            "                                                                 \n",
            " batch_normalization_2 (Bat  (None, 4, 3, 1024)        4096      \n",
            " chNormalization)                                                \n",
            "                                                                 \n",
            " global_average_pooling2d (  (None, 1024)              0         \n",
            " GlobalAveragePooling2D)                                         \n",
            "                                                                 \n",
            " dropout (Dropout)           (None, 1024)              0         \n",
            "                                                                 \n",
            " dense (Dense)               (None, 4)                 4100      \n",
            "                                                                 \n",
            "=================================================================\n",
            "Total params: 3236488 (12.35 MB)\n",
            "Trainable params: 0 (0.00 Byte)\n",
            "Non-trainable params: 3236488 (12.35 MB)\n",
            "_________________________________________________________________\n"
          ]
        }
      ]
    },
    {
      "cell_type": "code",
      "source": [
        "#logger.info(f'start traing')\n",
        "# Early stoppingを適用してフィッティング\n",
        "history = model.fit(train_generator,\n",
        "                    validation_data = val_generator,\n",
        "                    steps_per_epoch = train_generator.samples // BATCH_SIZE,\n",
        "                    validation_steps = val_generator.samples // BATCH_SIZE,\n",
        "                    verbose=True,\n",
        "                    #callbacks=[tensorflow.keras.callbacks.EarlyStopping(monitor='val_loss', min_delta=0, patience=10, verbose=1),\n",
        "                    #           tensorflowkeras.callbacks.ModelCheckpoint(filepath=checkpoint_path, save_weights_only=True, verbose=1)],\n",
        "                    callbacks=[tensorflow.keras.callbacks.EarlyStopping(monitor='val_loss', min_delta=0, patience=10, verbose=1)],\n",
        "                    epochs = epochs,\n",
        "                    workers = 1\n",
        ")\n",
        "\n",
        "#logger.info(f'end traing')\n",
        "\n",
        "# 評価する。\n",
        "test_loss, test_acc = model.evaluate(val_generator)\n",
        "#logger.result(f\"test loss: {test_loss:.2f}, test accuracy: {test_acc:.2%}\")\n",
        "\n",
        "model_path = os.path.join(MODEL_DIR+'/cnn_'+architecture+'_OneHold.h5')\n",
        "model.save(model_path)\n",
        "\n",
        "plt.figure(figsize=(10, 5))  # グラフを表示するスペースを用意\n",
        "\n",
        "for i in range(len(metrics)):\n",
        "  metric = metrics[i]\n",
        "\n",
        "  plt.subplot(1, 2, i+1)  # figureを1×2のスペースに分ける\n",
        "  plt.title(metric)\n",
        "\n",
        "  plt_train = history.history[metric]\n",
        "  plt_valid  = history.history['val_' + metric]\n",
        "\n",
        "  plt.plot(plt_train, label='train')\n",
        "  plt.plot(plt_valid, label='valid')\n",
        "  plt.legend()\n",
        "\n",
        "analysis_path = os.path.join(ANALYSIS_DIR+\"/metrics_one_hold.png\")\n",
        "plt.savefig(analysis_path)\n",
        "\n",
        "\n",
        "#logger.info('end def fit_model_one_hold')\n",
        "\n",
        "import shutil\n",
        "import glob\n",
        "\n",
        "\n",
        "#os.makedirs(TEST_DIR+'/dummy/', exist_ok=True)\n",
        "#for image_path in glob.glob(TEST_DIR + '/*.jpeg'):\n",
        "#    shutil.move(image_path, TEST_DIR + '/dummy')\n",
        "\n",
        "#logger.info('start predict by one_hold')\n",
        "\n",
        "ans = pd.read_csv(INPUT_DIR+\"/sample_submit.csv\",  header=None)\n",
        "test_datagen = ImageDataGenerator(rescale=1./255)\n",
        "test_generator = test_datagen.flow_from_dataframe(ans, TEST_DIR, x_col=0, target_size=(IMG_WIDTH,IMG_HEIGHT),\n",
        "                                                  batch_size=BATCH_SIZE, class_mode=None, shuffle=False)\n",
        "\n",
        "prediction = model.predict(test_generator)\n",
        "prediction = np.argmax(prediction,axis=1)\n",
        "\n",
        "ans[1] = prediction\n",
        "\n",
        "ans.to_csv(path_or_buf = SUBMISSION_DIR+\"/submission_.csv\", index=False, header=None)\n",
        "#logger.info('start predict by one_hold')"
      ],
      "metadata": {
        "colab": {
          "base_uri": "https://localhost:8080/",
          "height": 1000
        },
        "id": "Dxgrky4r7T5c",
        "outputId": "ee114e10-235d-4484-da87-41f5d6beb484"
      },
      "execution_count": 17,
      "outputs": [
        {
          "output_type": "stream",
          "name": "stderr",
          "text": [
            "/usr/local/lib/python3.10/dist-packages/keras/src/preprocessing/image.py:1862: UserWarning: This ImageDataGenerator specifies `featurewise_center`, but it hasn't been fit on any training data. Fit it first by calling `.fit(numpy_data)`.\n",
            "  warnings.warn(\n",
            "/usr/local/lib/python3.10/dist-packages/keras/src/preprocessing/image.py:1872: UserWarning: This ImageDataGenerator specifies `featurewise_std_normalization`, but it hasn't been fit on any training data. Fit it first by calling `.fit(numpy_data)`.\n",
            "  warnings.warn(\n"
          ]
        },
        {
          "output_type": "stream",
          "name": "stdout",
          "text": [
            "Epoch 1/50\n",
            "17/17 [==============================] - 6s 224ms/step - loss: 1.3863 - accuracy: 0.2500 - val_loss: 1.3863 - val_accuracy: 0.2500\n",
            "Epoch 2/50\n",
            "17/17 [==============================] - 3s 174ms/step - loss: 1.3863 - accuracy: 0.2574 - val_loss: 1.3863 - val_accuracy: 0.2500\n",
            "Epoch 3/50\n",
            "17/17 [==============================] - 4s 237ms/step - loss: 1.3863 - accuracy: 0.2500 - val_loss: 1.3863 - val_accuracy: 0.2500\n",
            "Epoch 4/50\n",
            "17/17 [==============================] - 3s 169ms/step - loss: 1.3863 - accuracy: 0.2574 - val_loss: 1.3863 - val_accuracy: 0.2500\n",
            "Epoch 5/50\n",
            "17/17 [==============================] - 3s 165ms/step - loss: 1.3863 - accuracy: 0.2500 - val_loss: 1.3863 - val_accuracy: 0.2500\n",
            "Epoch 6/50\n",
            "17/17 [==============================] - 3s 189ms/step - loss: 1.3863 - accuracy: 0.2538 - val_loss: 1.3863 - val_accuracy: 0.2500\n",
            "Epoch 7/50\n",
            "17/17 [==============================] - 3s 201ms/step - loss: 1.3863 - accuracy: 0.2462 - val_loss: 1.3863 - val_accuracy: 0.2500\n",
            "Epoch 8/50\n",
            "17/17 [==============================] - 3s 166ms/step - loss: 1.3863 - accuracy: 0.2500 - val_loss: 1.3863 - val_accuracy: 0.2500\n",
            "Epoch 9/50\n",
            "17/17 [==============================] - 4s 224ms/step - loss: 1.3863 - accuracy: 0.2424 - val_loss: 1.3863 - val_accuracy: 0.2500\n",
            "Epoch 10/50\n",
            "17/17 [==============================] - 3s 170ms/step - loss: 1.3863 - accuracy: 0.2574 - val_loss: 1.3863 - val_accuracy: 0.2500\n",
            "Epoch 11/50\n",
            "17/17 [==============================] - 3s 167ms/step - loss: 1.3863 - accuracy: 0.2538 - val_loss: 1.3863 - val_accuracy: 0.2500\n",
            "Epoch 11: early stopping\n",
            "2/2 [==============================] - 1s 291ms/step - loss: 1.3863 - accuracy: 0.2500\n"
          ]
        },
        {
          "output_type": "stream",
          "name": "stderr",
          "text": [
            "/usr/local/lib/python3.10/dist-packages/keras/src/engine/training.py:3103: UserWarning: You are saving your model as an HDF5 file via `model.save()`. This file format is considered legacy. We recommend using instead the native Keras format, e.g. `model.save('my_model.keras')`.\n",
            "  saving_api.save_model(\n"
          ]
        },
        {
          "output_type": "stream",
          "name": "stdout",
          "text": [
            "Found 312 validated image filenames.\n"
          ]
        },
        {
          "output_type": "error",
          "ename": "InvalidArgumentError",
          "evalue": "Graph execution error:\n\nDetected at node sequential_1/batch_normalization_1/FusedBatchNormV3 defined at (most recent call last):\n  File \"/usr/lib/python3.10/runpy.py\", line 196, in _run_module_as_main\n\n  File \"/usr/lib/python3.10/runpy.py\", line 86, in _run_code\n\n  File \"/usr/local/lib/python3.10/dist-packages/colab_kernel_launcher.py\", line 37, in <module>\n\n  File \"/usr/local/lib/python3.10/dist-packages/traitlets/config/application.py\", line 992, in launch_instance\n\n  File \"/usr/local/lib/python3.10/dist-packages/ipykernel/kernelapp.py\", line 619, in start\n\n  File \"/usr/local/lib/python3.10/dist-packages/tornado/platform/asyncio.py\", line 195, in start\n\n  File \"/usr/lib/python3.10/asyncio/base_events.py\", line 603, in run_forever\n\n  File \"/usr/lib/python3.10/asyncio/base_events.py\", line 1909, in _run_once\n\n  File \"/usr/lib/python3.10/asyncio/events.py\", line 80, in _run\n\n  File \"/usr/local/lib/python3.10/dist-packages/tornado/ioloop.py\", line 685, in <lambda>\n\n  File \"/usr/local/lib/python3.10/dist-packages/tornado/ioloop.py\", line 738, in _run_callback\n\n  File \"/usr/local/lib/python3.10/dist-packages/tornado/gen.py\", line 825, in inner\n\n  File \"/usr/local/lib/python3.10/dist-packages/tornado/gen.py\", line 786, in run\n\n  File \"/usr/local/lib/python3.10/dist-packages/ipykernel/kernelbase.py\", line 361, in process_one\n\n  File \"/usr/local/lib/python3.10/dist-packages/tornado/gen.py\", line 234, in wrapper\n\n  File \"/usr/local/lib/python3.10/dist-packages/ipykernel/kernelbase.py\", line 261, in dispatch_shell\n\n  File \"/usr/local/lib/python3.10/dist-packages/tornado/gen.py\", line 234, in wrapper\n\n  File \"/usr/local/lib/python3.10/dist-packages/ipykernel/kernelbase.py\", line 539, in execute_request\n\n  File \"/usr/local/lib/python3.10/dist-packages/tornado/gen.py\", line 234, in wrapper\n\n  File \"/usr/local/lib/python3.10/dist-packages/ipykernel/ipkernel.py\", line 302, in do_execute\n\n  File \"/usr/local/lib/python3.10/dist-packages/ipykernel/zmqshell.py\", line 539, in run_cell\n\n  File \"/usr/local/lib/python3.10/dist-packages/IPython/core/interactiveshell.py\", line 2975, in run_cell\n\n  File \"/usr/local/lib/python3.10/dist-packages/IPython/core/interactiveshell.py\", line 3030, in _run_cell\n\n  File \"/usr/local/lib/python3.10/dist-packages/IPython/core/async_helpers.py\", line 78, in _pseudo_sync_runner\n\n  File \"/usr/local/lib/python3.10/dist-packages/IPython/core/interactiveshell.py\", line 3257, in run_cell_async\n\n  File \"/usr/local/lib/python3.10/dist-packages/IPython/core/interactiveshell.py\", line 3473, in run_ast_nodes\n\n  File \"/usr/local/lib/python3.10/dist-packages/IPython/core/interactiveshell.py\", line 3553, in run_code\n\n  File \"<ipython-input-17-759ad42a1eb7>\", line 60, in <cell line: 60>\n\n  File \"/usr/local/lib/python3.10/dist-packages/keras/src/utils/traceback_utils.py\", line 65, in error_handler\n\n  File \"/usr/local/lib/python3.10/dist-packages/keras/src/engine/training.py\", line 2655, in predict\n\n  File \"/usr/local/lib/python3.10/dist-packages/keras/src/engine/training.py\", line 2440, in predict_function\n\n  File \"/usr/local/lib/python3.10/dist-packages/keras/src/engine/training.py\", line 2425, in step_function\n\n  File \"/usr/local/lib/python3.10/dist-packages/keras/src/engine/training.py\", line 2413, in run_step\n\n  File \"/usr/local/lib/python3.10/dist-packages/keras/src/engine/training.py\", line 2381, in predict_step\n\n  File \"/usr/local/lib/python3.10/dist-packages/keras/src/utils/traceback_utils.py\", line 65, in error_handler\n\n  File \"/usr/local/lib/python3.10/dist-packages/keras/src/engine/training.py\", line 590, in __call__\n\n  File \"/usr/local/lib/python3.10/dist-packages/keras/src/utils/traceback_utils.py\", line 65, in error_handler\n\n  File \"/usr/local/lib/python3.10/dist-packages/keras/src/engine/base_layer.py\", line 1149, in __call__\n\n  File \"/usr/local/lib/python3.10/dist-packages/keras/src/utils/traceback_utils.py\", line 96, in error_handler\n\n  File \"/usr/local/lib/python3.10/dist-packages/keras/src/engine/sequential.py\", line 398, in call\n\n  File \"/usr/local/lib/python3.10/dist-packages/keras/src/engine/functional.py\", line 515, in call\n\n  File \"/usr/local/lib/python3.10/dist-packages/keras/src/engine/functional.py\", line 672, in _run_internal_graph\n\n  File \"/usr/local/lib/python3.10/dist-packages/keras/src/utils/traceback_utils.py\", line 65, in error_handler\n\n  File \"/usr/local/lib/python3.10/dist-packages/keras/src/engine/base_layer.py\", line 1149, in __call__\n\n  File \"/usr/local/lib/python3.10/dist-packages/keras/src/utils/traceback_utils.py\", line 96, in error_handler\n\n  File \"/usr/local/lib/python3.10/dist-packages/keras/src/layers/normalization/batch_normalization.py\", line 597, in call\n\n  File \"/usr/local/lib/python3.10/dist-packages/keras/src/layers/normalization/batch_normalization.py\", line 990, in _fused_batch_norm\n\n  File \"/usr/local/lib/python3.10/dist-packages/keras/src/utils/control_flow_util.py\", line 108, in smart_cond\n\n  File \"/usr/local/lib/python3.10/dist-packages/keras/src/layers/normalization/batch_normalization.py\", line 979, in _fused_batch_norm_inference\n\nscale must have the same number of elements as the channels of x, got 1 and 3\n\t [[{{node sequential_1/batch_normalization_1/FusedBatchNormV3}}]] [Op:__inference_predict_function_8150]",
          "traceback": [
            "\u001b[0;31m---------------------------------------------------------------------------\u001b[0m",
            "\u001b[0;31mInvalidArgumentError\u001b[0m                      Traceback (most recent call last)",
            "\u001b[0;32m<ipython-input-17-759ad42a1eb7>\u001b[0m in \u001b[0;36m<cell line: 60>\u001b[0;34m()\u001b[0m\n\u001b[1;32m     58\u001b[0m                                                   batch_size=BATCH_SIZE, class_mode=None, shuffle=False)\n\u001b[1;32m     59\u001b[0m \u001b[0;34m\u001b[0m\u001b[0m\n\u001b[0;32m---> 60\u001b[0;31m \u001b[0mprediction\u001b[0m \u001b[0;34m=\u001b[0m \u001b[0mmodel\u001b[0m\u001b[0;34m.\u001b[0m\u001b[0mpredict\u001b[0m\u001b[0;34m(\u001b[0m\u001b[0mtest_generator\u001b[0m\u001b[0;34m)\u001b[0m\u001b[0;34m\u001b[0m\u001b[0;34m\u001b[0m\u001b[0m\n\u001b[0m\u001b[1;32m     61\u001b[0m \u001b[0mprediction\u001b[0m \u001b[0;34m=\u001b[0m \u001b[0mnp\u001b[0m\u001b[0;34m.\u001b[0m\u001b[0margmax\u001b[0m\u001b[0;34m(\u001b[0m\u001b[0mprediction\u001b[0m\u001b[0;34m,\u001b[0m\u001b[0maxis\u001b[0m\u001b[0;34m=\u001b[0m\u001b[0;36m1\u001b[0m\u001b[0;34m)\u001b[0m\u001b[0;34m\u001b[0m\u001b[0;34m\u001b[0m\u001b[0m\n\u001b[1;32m     62\u001b[0m \u001b[0;34m\u001b[0m\u001b[0m\n",
            "\u001b[0;32m/usr/local/lib/python3.10/dist-packages/keras/src/utils/traceback_utils.py\u001b[0m in \u001b[0;36merror_handler\u001b[0;34m(*args, **kwargs)\u001b[0m\n\u001b[1;32m     68\u001b[0m             \u001b[0;31m# To get the full stack trace, call:\u001b[0m\u001b[0;34m\u001b[0m\u001b[0;34m\u001b[0m\u001b[0m\n\u001b[1;32m     69\u001b[0m             \u001b[0;31m# `tf.debugging.disable_traceback_filtering()`\u001b[0m\u001b[0;34m\u001b[0m\u001b[0;34m\u001b[0m\u001b[0m\n\u001b[0;32m---> 70\u001b[0;31m             \u001b[0;32mraise\u001b[0m \u001b[0me\u001b[0m\u001b[0;34m.\u001b[0m\u001b[0mwith_traceback\u001b[0m\u001b[0;34m(\u001b[0m\u001b[0mfiltered_tb\u001b[0m\u001b[0;34m)\u001b[0m \u001b[0;32mfrom\u001b[0m \u001b[0;32mNone\u001b[0m\u001b[0;34m\u001b[0m\u001b[0;34m\u001b[0m\u001b[0m\n\u001b[0m\u001b[1;32m     71\u001b[0m         \u001b[0;32mfinally\u001b[0m\u001b[0;34m:\u001b[0m\u001b[0;34m\u001b[0m\u001b[0;34m\u001b[0m\u001b[0m\n\u001b[1;32m     72\u001b[0m             \u001b[0;32mdel\u001b[0m \u001b[0mfiltered_tb\u001b[0m\u001b[0;34m\u001b[0m\u001b[0;34m\u001b[0m\u001b[0m\n",
            "\u001b[0;32m/usr/local/lib/python3.10/dist-packages/tensorflow/python/eager/execute.py\u001b[0m in \u001b[0;36mquick_execute\u001b[0;34m(op_name, num_outputs, inputs, attrs, ctx, name)\u001b[0m\n\u001b[1;32m     51\u001b[0m   \u001b[0;32mtry\u001b[0m\u001b[0;34m:\u001b[0m\u001b[0;34m\u001b[0m\u001b[0;34m\u001b[0m\u001b[0m\n\u001b[1;32m     52\u001b[0m     \u001b[0mctx\u001b[0m\u001b[0;34m.\u001b[0m\u001b[0mensure_initialized\u001b[0m\u001b[0;34m(\u001b[0m\u001b[0;34m)\u001b[0m\u001b[0;34m\u001b[0m\u001b[0;34m\u001b[0m\u001b[0m\n\u001b[0;32m---> 53\u001b[0;31m     tensors = pywrap_tfe.TFE_Py_Execute(ctx._handle, device_name, op_name,\n\u001b[0m\u001b[1;32m     54\u001b[0m                                         inputs, attrs, num_outputs)\n\u001b[1;32m     55\u001b[0m   \u001b[0;32mexcept\u001b[0m \u001b[0mcore\u001b[0m\u001b[0;34m.\u001b[0m\u001b[0m_NotOkStatusException\u001b[0m \u001b[0;32mas\u001b[0m \u001b[0me\u001b[0m\u001b[0;34m:\u001b[0m\u001b[0;34m\u001b[0m\u001b[0;34m\u001b[0m\u001b[0m\n",
            "\u001b[0;31mInvalidArgumentError\u001b[0m: Graph execution error:\n\nDetected at node sequential_1/batch_normalization_1/FusedBatchNormV3 defined at (most recent call last):\n  File \"/usr/lib/python3.10/runpy.py\", line 196, in _run_module_as_main\n\n  File \"/usr/lib/python3.10/runpy.py\", line 86, in _run_code\n\n  File \"/usr/local/lib/python3.10/dist-packages/colab_kernel_launcher.py\", line 37, in <module>\n\n  File \"/usr/local/lib/python3.10/dist-packages/traitlets/config/application.py\", line 992, in launch_instance\n\n  File \"/usr/local/lib/python3.10/dist-packages/ipykernel/kernelapp.py\", line 619, in start\n\n  File \"/usr/local/lib/python3.10/dist-packages/tornado/platform/asyncio.py\", line 195, in start\n\n  File \"/usr/lib/python3.10/asyncio/base_events.py\", line 603, in run_forever\n\n  File \"/usr/lib/python3.10/asyncio/base_events.py\", line 1909, in _run_once\n\n  File \"/usr/lib/python3.10/asyncio/events.py\", line 80, in _run\n\n  File \"/usr/local/lib/python3.10/dist-packages/tornado/ioloop.py\", line 685, in <lambda>\n\n  File \"/usr/local/lib/python3.10/dist-packages/tornado/ioloop.py\", line 738, in _run_callback\n\n  File \"/usr/local/lib/python3.10/dist-packages/tornado/gen.py\", line 825, in inner\n\n  File \"/usr/local/lib/python3.10/dist-packages/tornado/gen.py\", line 786, in run\n\n  File \"/usr/local/lib/python3.10/dist-packages/ipykernel/kernelbase.py\", line 361, in process_one\n\n  File \"/usr/local/lib/python3.10/dist-packages/tornado/gen.py\", line 234, in wrapper\n\n  File \"/usr/local/lib/python3.10/dist-packages/ipykernel/kernelbase.py\", line 261, in dispatch_shell\n\n  File \"/usr/local/lib/python3.10/dist-packages/tornado/gen.py\", line 234, in wrapper\n\n  File \"/usr/local/lib/python3.10/dist-packages/ipykernel/kernelbase.py\", line 539, in execute_request\n\n  File \"/usr/local/lib/python3.10/dist-packages/tornado/gen.py\", line 234, in wrapper\n\n  File \"/usr/local/lib/python3.10/dist-packages/ipykernel/ipkernel.py\", line 302, in do_execute\n\n  File \"/usr/local/lib/python3.10/dist-packages/ipykernel/zmqshell.py\", line 539, in run_cell\n\n  File \"/usr/local/lib/python3.10/dist-packages/IPython/core/interactiveshell.py\", line 2975, in run_cell\n\n  File \"/usr/local/lib/python3.10/dist-packages/IPython/core/interactiveshell.py\", line 3030, in _run_cell\n\n  File \"/usr/local/lib/python3.10/dist-packages/IPython/core/async_helpers.py\", line 78, in _pseudo_sync_runner\n\n  File \"/usr/local/lib/python3.10/dist-packages/IPython/core/interactiveshell.py\", line 3257, in run_cell_async\n\n  File \"/usr/local/lib/python3.10/dist-packages/IPython/core/interactiveshell.py\", line 3473, in run_ast_nodes\n\n  File \"/usr/local/lib/python3.10/dist-packages/IPython/core/interactiveshell.py\", line 3553, in run_code\n\n  File \"<ipython-input-17-759ad42a1eb7>\", line 60, in <cell line: 60>\n\n  File \"/usr/local/lib/python3.10/dist-packages/keras/src/utils/traceback_utils.py\", line 65, in error_handler\n\n  File \"/usr/local/lib/python3.10/dist-packages/keras/src/engine/training.py\", line 2655, in predict\n\n  File \"/usr/local/lib/python3.10/dist-packages/keras/src/engine/training.py\", line 2440, in predict_function\n\n  File \"/usr/local/lib/python3.10/dist-packages/keras/src/engine/training.py\", line 2425, in step_function\n\n  File \"/usr/local/lib/python3.10/dist-packages/keras/src/engine/training.py\", line 2413, in run_step\n\n  File \"/usr/local/lib/python3.10/dist-packages/keras/src/engine/training.py\", line 2381, in predict_step\n\n  File \"/usr/local/lib/python3.10/dist-packages/keras/src/utils/traceback_utils.py\", line 65, in error_handler\n\n  File \"/usr/local/lib/python3.10/dist-packages/keras/src/engine/training.py\", line 590, in __call__\n\n  File \"/usr/local/lib/python3.10/dist-packages/keras/src/utils/traceback_utils.py\", line 65, in error_handler\n\n  File \"/usr/local/lib/python3.10/dist-packages/keras/src/engine/base_layer.py\", line 1149, in __call__\n\n  File \"/usr/local/lib/python3.10/dist-packages/keras/src/utils/traceback_utils.py\", line 96, in error_handler\n\n  File \"/usr/local/lib/python3.10/dist-packages/keras/src/engine/sequential.py\", line 398, in call\n\n  File \"/usr/local/lib/python3.10/dist-packages/keras/src/engine/functional.py\", line 515, in call\n\n  File \"/usr/local/lib/python3.10/dist-packages/keras/src/engine/functional.py\", line 672, in _run_internal_graph\n\n  File \"/usr/local/lib/python3.10/dist-packages/keras/src/utils/traceback_utils.py\", line 65, in error_handler\n\n  File \"/usr/local/lib/python3.10/dist-packages/keras/src/engine/base_layer.py\", line 1149, in __call__\n\n  File \"/usr/local/lib/python3.10/dist-packages/keras/src/utils/traceback_utils.py\", line 96, in error_handler\n\n  File \"/usr/local/lib/python3.10/dist-packages/keras/src/layers/normalization/batch_normalization.py\", line 597, in call\n\n  File \"/usr/local/lib/python3.10/dist-packages/keras/src/layers/normalization/batch_normalization.py\", line 990, in _fused_batch_norm\n\n  File \"/usr/local/lib/python3.10/dist-packages/keras/src/utils/control_flow_util.py\", line 108, in smart_cond\n\n  File \"/usr/local/lib/python3.10/dist-packages/keras/src/layers/normalization/batch_normalization.py\", line 979, in _fused_batch_norm_inference\n\nscale must have the same number of elements as the channels of x, got 1 and 3\n\t [[{{node sequential_1/batch_normalization_1/FusedBatchNormV3}}]] [Op:__inference_predict_function_8150]"
          ]
        },
        {
          "output_type": "display_data",
          "data": {
            "text/plain": [
              "<Figure size 1000x500 with 2 Axes>"
            ],
            "image/png": "[encoded data removed]"
          },
          "metadata": {}
        }
      ]
    },
    {
      "cell_type": "markdown",
      "source": [
        "## 混合行列"
      ],
      "metadata": {
        "id": "j8Vj2ZKjiQqK"
      }
    },
    {
      "cell_type": "code",
      "source": [
        "#logger.info('start def fit_model_one_hold()')\n",
        "\n",
        "metrics = ['loss', 'accuracy']  # 使用する評価関数を指定\n",
        "datagen = ImageDataGenerator(rescale=1./255)\n",
        "\n",
        "train_generator = datagen.flow_from_dataframe(\n",
        "                            dataframe = train_x,\n",
        "                            directory = TRAIN_DIR,\n",
        "                            x_col = \"id\",\n",
        "                            y_col = \"target\",\n",
        "                            target_size=(IMG_WIDTH,IMG_HEIGHT),\n",
        "                            batch_size=BATCH_SIZE,\n",
        "                            class_mode='binary',\n",
        "                            shuffle=False\n",
        ")"
      ],
      "metadata": {
        "id": "W6tbyk8Gh_gR",
        "colab": {
          "base_uri": "https://localhost:8080/",
          "height": 508
        },
        "outputId": "211d365b-13bc-4f69-d880-0eff4c600302"
      },
      "execution_count": 18,
      "outputs": [
        {
          "output_type": "error",
          "ename": "KeyError",
          "evalue": "'target'",
          "traceback": [
            "\u001b[0;31m---------------------------------------------------------------------------\u001b[0m",
            "\u001b[0;31mKeyError\u001b[0m                                  Traceback (most recent call last)",
            "\u001b[0;32m/usr/local/lib/python3.10/dist-packages/pandas/core/indexes/base.py\u001b[0m in \u001b[0;36mget_loc\u001b[0;34m(self, key)\u001b[0m\n\u001b[1;32m   3652\u001b[0m         \u001b[0;32mtry\u001b[0m\u001b[0;34m:\u001b[0m\u001b[0;34m\u001b[0m\u001b[0;34m\u001b[0m\u001b[0m\n\u001b[0;32m-> 3653\u001b[0;31m             \u001b[0;32mreturn\u001b[0m \u001b[0mself\u001b[0m\u001b[0;34m.\u001b[0m\u001b[0m_engine\u001b[0m\u001b[0;34m.\u001b[0m\u001b[0mget_loc\u001b[0m\u001b[0;34m(\u001b[0m\u001b[0mcasted_key\u001b[0m\u001b[0;34m)\u001b[0m\u001b[0;34m\u001b[0m\u001b[0;34m\u001b[0m\u001b[0m\n\u001b[0m\u001b[1;32m   3654\u001b[0m         \u001b[0;32mexcept\u001b[0m \u001b[0mKeyError\u001b[0m \u001b[0;32mas\u001b[0m \u001b[0merr\u001b[0m\u001b[0;34m:\u001b[0m\u001b[0;34m\u001b[0m\u001b[0;34m\u001b[0m\u001b[0m\n",
            "\u001b[0;32m/usr/local/lib/python3.10/dist-packages/pandas/_libs/index.pyx\u001b[0m in \u001b[0;36mpandas._libs.index.IndexEngine.get_loc\u001b[0;34m()\u001b[0m\n",
            "\u001b[0;32m/usr/local/lib/python3.10/dist-packages/pandas/_libs/index.pyx\u001b[0m in \u001b[0;36mpandas._libs.index.IndexEngine.get_loc\u001b[0;34m()\u001b[0m\n",
            "\u001b[0;32mpandas/_libs/hashtable_class_helper.pxi\u001b[0m in \u001b[0;36mpandas._libs.hashtable.PyObjectHashTable.get_item\u001b[0;34m()\u001b[0m\n",
            "\u001b[0;32mpandas/_libs/hashtable_class_helper.pxi\u001b[0m in \u001b[0;36mpandas._libs.hashtable.PyObjectHashTable.get_item\u001b[0;34m()\u001b[0m\n",
            "\u001b[0;31mKeyError\u001b[0m: 'target'",
            "\nThe above exception was the direct cause of the following exception:\n",
            "\u001b[0;31mKeyError\u001b[0m                                  Traceback (most recent call last)",
            "\u001b[0;32m<ipython-input-18-2bd3a3141c50>\u001b[0m in \u001b[0;36m<cell line: 6>\u001b[0;34m()\u001b[0m\n\u001b[1;32m      4\u001b[0m \u001b[0mdatagen\u001b[0m \u001b[0;34m=\u001b[0m \u001b[0mImageDataGenerator\u001b[0m\u001b[0;34m(\u001b[0m\u001b[0mrescale\u001b[0m\u001b[0;34m=\u001b[0m\u001b[0;36m1.\u001b[0m\u001b[0;34m/\u001b[0m\u001b[0;36m255\u001b[0m\u001b[0;34m)\u001b[0m\u001b[0;34m\u001b[0m\u001b[0;34m\u001b[0m\u001b[0m\n\u001b[1;32m      5\u001b[0m \u001b[0;34m\u001b[0m\u001b[0m\n\u001b[0;32m----> 6\u001b[0;31m train_generator = datagen.flow_from_dataframe(\n\u001b[0m\u001b[1;32m      7\u001b[0m                             \u001b[0mdataframe\u001b[0m \u001b[0;34m=\u001b[0m \u001b[0mtrain_x\u001b[0m\u001b[0;34m,\u001b[0m\u001b[0;34m\u001b[0m\u001b[0;34m\u001b[0m\u001b[0m\n\u001b[1;32m      8\u001b[0m                             \u001b[0mdirectory\u001b[0m \u001b[0;34m=\u001b[0m \u001b[0mTRAIN_DIR\u001b[0m\u001b[0;34m,\u001b[0m\u001b[0;34m\u001b[0m\u001b[0;34m\u001b[0m\u001b[0m\n",
            "\u001b[0;32m/usr/local/lib/python3.10/dist-packages/keras/src/preprocessing/image.py\u001b[0m in \u001b[0;36mflow_from_dataframe\u001b[0;34m(self, dataframe, directory, x_col, y_col, weight_col, target_size, color_mode, classes, class_mode, batch_size, shuffle, seed, save_to_dir, save_prefix, save_format, subset, interpolation, validate_filenames, **kwargs)\u001b[0m\n\u001b[1;32m   1805\u001b[0m             )\n\u001b[1;32m   1806\u001b[0m \u001b[0;34m\u001b[0m\u001b[0m\n\u001b[0;32m-> 1807\u001b[0;31m         return DataFrameIterator(\n\u001b[0m\u001b[1;32m   1808\u001b[0m             \u001b[0mdataframe\u001b[0m\u001b[0;34m,\u001b[0m\u001b[0;34m\u001b[0m\u001b[0;34m\u001b[0m\u001b[0m\n\u001b[1;32m   1809\u001b[0m             \u001b[0mdirectory\u001b[0m\u001b[0;34m,\u001b[0m\u001b[0;34m\u001b[0m\u001b[0;34m\u001b[0m\u001b[0m\n",
            "\u001b[0;32m/usr/local/lib/python3.10/dist-packages/keras/src/preprocessing/image.py\u001b[0m in \u001b[0;36m__init__\u001b[0;34m(self, dataframe, directory, image_data_generator, x_col, y_col, weight_col, target_size, color_mode, classes, class_mode, batch_size, shuffle, seed, data_format, save_to_dir, save_prefix, save_format, subset, interpolation, keep_aspect_ratio, dtype, validate_filenames)\u001b[0m\n\u001b[1;32m    966\u001b[0m         \u001b[0mself\u001b[0m\u001b[0;34m.\u001b[0m\u001b[0mdtype\u001b[0m \u001b[0;34m=\u001b[0m \u001b[0mdtype\u001b[0m\u001b[0;34m\u001b[0m\u001b[0;34m\u001b[0m\u001b[0m\n\u001b[1;32m    967\u001b[0m         \u001b[0;31m# check that inputs match the required class_mode\u001b[0m\u001b[0;34m\u001b[0m\u001b[0;34m\u001b[0m\u001b[0m\n\u001b[0;32m--> 968\u001b[0;31m         \u001b[0mself\u001b[0m\u001b[0;34m.\u001b[0m\u001b[0m_check_params\u001b[0m\u001b[0;34m(\u001b[0m\u001b[0mdf\u001b[0m\u001b[0;34m,\u001b[0m \u001b[0mx_col\u001b[0m\u001b[0;34m,\u001b[0m \u001b[0my_col\u001b[0m\u001b[0;34m,\u001b[0m \u001b[0mweight_col\u001b[0m\u001b[0;34m,\u001b[0m \u001b[0mclasses\u001b[0m\u001b[0;34m)\u001b[0m\u001b[0;34m\u001b[0m\u001b[0;34m\u001b[0m\u001b[0m\n\u001b[0m\u001b[1;32m    969\u001b[0m         if (\n\u001b[1;32m    970\u001b[0m             \u001b[0mvalidate_filenames\u001b[0m\u001b[0;34m\u001b[0m\u001b[0;34m\u001b[0m\u001b[0m\n",
            "\u001b[0;32m/usr/local/lib/python3.10/dist-packages/keras/src/preprocessing/image.py\u001b[0m in \u001b[0;36m_check_params\u001b[0;34m(self, df, x_col, y_col, weight_col, classes)\u001b[0m\n\u001b[1;32m   1033\u001b[0m         \u001b[0;31m# check labels are string if class_mode is binary or sparse\u001b[0m\u001b[0;34m\u001b[0m\u001b[0;34m\u001b[0m\u001b[0m\n\u001b[1;32m   1034\u001b[0m         \u001b[0;32mif\u001b[0m \u001b[0mself\u001b[0m\u001b[0;34m.\u001b[0m\u001b[0mclass_mode\u001b[0m \u001b[0;32min\u001b[0m \u001b[0;34m{\u001b[0m\u001b[0;34m\"binary\"\u001b[0m\u001b[0;34m,\u001b[0m \u001b[0;34m\"sparse\"\u001b[0m\u001b[0;34m}\u001b[0m\u001b[0;34m:\u001b[0m\u001b[0;34m\u001b[0m\u001b[0;34m\u001b[0m\u001b[0m\n\u001b[0;32m-> 1035\u001b[0;31m             \u001b[0;32mif\u001b[0m \u001b[0;32mnot\u001b[0m \u001b[0mall\u001b[0m\u001b[0;34m(\u001b[0m\u001b[0mdf\u001b[0m\u001b[0;34m[\u001b[0m\u001b[0my_col\u001b[0m\u001b[0;34m]\u001b[0m\u001b[0;34m.\u001b[0m\u001b[0mapply\u001b[0m\u001b[0;34m(\u001b[0m\u001b[0;32mlambda\u001b[0m \u001b[0mx\u001b[0m\u001b[0;34m:\u001b[0m \u001b[0misinstance\u001b[0m\u001b[0;34m(\u001b[0m\u001b[0mx\u001b[0m\u001b[0;34m,\u001b[0m \u001b[0mstr\u001b[0m\u001b[0;34m)\u001b[0m\u001b[0;34m)\u001b[0m\u001b[0;34m)\u001b[0m\u001b[0;34m:\u001b[0m\u001b[0;34m\u001b[0m\u001b[0;34m\u001b[0m\u001b[0m\n\u001b[0m\u001b[1;32m   1036\u001b[0m                 raise TypeError(\n\u001b[1;32m   1037\u001b[0m                     \u001b[0;34m'If class_mode=\"{}\", y_col=\"{}\" column '\u001b[0m\u001b[0;34m\u001b[0m\u001b[0;34m\u001b[0m\u001b[0m\n",
            "\u001b[0;32m/usr/local/lib/python3.10/dist-packages/pandas/core/frame.py\u001b[0m in \u001b[0;36m__getitem__\u001b[0;34m(self, key)\u001b[0m\n\u001b[1;32m   3759\u001b[0m             \u001b[0;32mif\u001b[0m \u001b[0mself\u001b[0m\u001b[0;34m.\u001b[0m\u001b[0mcolumns\u001b[0m\u001b[0;34m.\u001b[0m\u001b[0mnlevels\u001b[0m \u001b[0;34m>\u001b[0m \u001b[0;36m1\u001b[0m\u001b[0;34m:\u001b[0m\u001b[0;34m\u001b[0m\u001b[0;34m\u001b[0m\u001b[0m\n\u001b[1;32m   3760\u001b[0m                 \u001b[0;32mreturn\u001b[0m \u001b[0mself\u001b[0m\u001b[0;34m.\u001b[0m\u001b[0m_getitem_multilevel\u001b[0m\u001b[0;34m(\u001b[0m\u001b[0mkey\u001b[0m\u001b[0;34m)\u001b[0m\u001b[0;34m\u001b[0m\u001b[0;34m\u001b[0m\u001b[0m\n\u001b[0;32m-> 3761\u001b[0;31m             \u001b[0mindexer\u001b[0m \u001b[0;34m=\u001b[0m \u001b[0mself\u001b[0m\u001b[0;34m.\u001b[0m\u001b[0mcolumns\u001b[0m\u001b[0;34m.\u001b[0m\u001b[0mget_loc\u001b[0m\u001b[0;34m(\u001b[0m\u001b[0mkey\u001b[0m\u001b[0;34m)\u001b[0m\u001b[0;34m\u001b[0m\u001b[0;34m\u001b[0m\u001b[0m\n\u001b[0m\u001b[1;32m   3762\u001b[0m             \u001b[0;32mif\u001b[0m \u001b[0mis_integer\u001b[0m\u001b[0;34m(\u001b[0m\u001b[0mindexer\u001b[0m\u001b[0;34m)\u001b[0m\u001b[0;34m:\u001b[0m\u001b[0;34m\u001b[0m\u001b[0;34m\u001b[0m\u001b[0m\n\u001b[1;32m   3763\u001b[0m                 \u001b[0mindexer\u001b[0m \u001b[0;34m=\u001b[0m \u001b[0;34m[\u001b[0m\u001b[0mindexer\u001b[0m\u001b[0;34m]\u001b[0m\u001b[0;34m\u001b[0m\u001b[0;34m\u001b[0m\u001b[0m\n",
            "\u001b[0;32m/usr/local/lib/python3.10/dist-packages/pandas/core/indexes/base.py\u001b[0m in \u001b[0;36mget_loc\u001b[0;34m(self, key)\u001b[0m\n\u001b[1;32m   3653\u001b[0m             \u001b[0;32mreturn\u001b[0m \u001b[0mself\u001b[0m\u001b[0;34m.\u001b[0m\u001b[0m_engine\u001b[0m\u001b[0;34m.\u001b[0m\u001b[0mget_loc\u001b[0m\u001b[0;34m(\u001b[0m\u001b[0mcasted_key\u001b[0m\u001b[0;34m)\u001b[0m\u001b[0;34m\u001b[0m\u001b[0;34m\u001b[0m\u001b[0m\n\u001b[1;32m   3654\u001b[0m         \u001b[0;32mexcept\u001b[0m \u001b[0mKeyError\u001b[0m \u001b[0;32mas\u001b[0m \u001b[0merr\u001b[0m\u001b[0;34m:\u001b[0m\u001b[0;34m\u001b[0m\u001b[0;34m\u001b[0m\u001b[0m\n\u001b[0;32m-> 3655\u001b[0;31m             \u001b[0;32mraise\u001b[0m \u001b[0mKeyError\u001b[0m\u001b[0;34m(\u001b[0m\u001b[0mkey\u001b[0m\u001b[0;34m)\u001b[0m \u001b[0;32mfrom\u001b[0m \u001b[0merr\u001b[0m\u001b[0;34m\u001b[0m\u001b[0;34m\u001b[0m\u001b[0m\n\u001b[0m\u001b[1;32m   3656\u001b[0m         \u001b[0;32mexcept\u001b[0m \u001b[0mTypeError\u001b[0m\u001b[0;34m:\u001b[0m\u001b[0;34m\u001b[0m\u001b[0;34m\u001b[0m\u001b[0m\n\u001b[1;32m   3657\u001b[0m             \u001b[0;31m# If we have a listlike key, _check_indexing_error will raise\u001b[0m\u001b[0;34m\u001b[0m\u001b[0;34m\u001b[0m\u001b[0m\n",
            "\u001b[0;31mKeyError\u001b[0m: 'target'"
          ]
        }
      ]
    },
    {
      "cell_type": "code",
      "source": [
        "from tensorflow.keras.models import Model, load_model\n",
        "model = load_model('/content/drive/MyDrive/Colab Notebooks/04_model/cnn_mobile-net_OneHold.h5')"
      ],
      "metadata": {
        "id": "XSGgmaVlhgIE"
      },
      "execution_count": null,
      "outputs": []
    },
    {
      "cell_type": "code",
      "source": [
        "#Confution Matrix and Classification Report\n",
        "from sklearn.metrics import classification_report, confusion_matrix\n",
        "import numpy as np\n",
        "\n",
        "y_pred = model.predict(train_generator, train_generator.samples // BATCH_SIZE)\n",
        "y_pred = np.where(Y_pred < 0.5, 0, 1)\n",
        "print('Confusion Matrix')\n",
        "print(confusion_matrix(train_generator.classes, y_pred))\n",
        "print('Classification Report')\n",
        "print(classification_report(train_generator.classes, y_pred, target_names=None))"
      ],
      "metadata": {
        "id": "L9H-skHHhNWD"
      },
      "execution_count": null,
      "outputs": []
    },
    {
      "cell_type": "code",
      "source": [
        "from sklearn.metrics import confusion_matrix\n",
        "import matplotlib.pyplot as plt\n",
        "import numpy as np\n",
        "import seaborn as sns\n",
        "\n",
        "swarm_plot = sns.heatmap(confusion_matrix(train_generator.classes, y_pred), annot=True)\n",
        "plt.xlabel(\"pred\")\n",
        "plt.ylabel('true')\n",
        "\n",
        "fig = swarm_plot.get_figure()\n",
        "fig.savefig(ANALYSIS_DIR+'Confusion_Matrix.png')"
      ],
      "metadata": {
        "id": "-v-mi-4uhKd7"
      },
      "execution_count": null,
      "outputs": []
    }
  ]
}